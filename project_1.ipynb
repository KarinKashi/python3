{
 "cells": [
  {
   "cell_type": "code",
   "execution_count": null,
   "metadata": {},
   "outputs": [],
   "source": [
    "import numpy as np\n",
    "from datetime import datetime\n",
    "import pandas as pd\n",
    "import matplotlib.pyplot as plt"
   ]
  },
  {
   "cell_type": "code",
   "execution_count": null,
   "metadata": {},
   "outputs": [],
   "source": [
    "t=pd.read_csv(\"D:/Data Science 360/Data scinece/Project/Project Python/Python Foundation Case Study 1 - Retail Case Study/Case Study 1 - Retail Case Study/Transactions.csv\")"
   ]
  },
  {
   "cell_type": "code",
   "execution_count": null,
   "metadata": {},
   "outputs": [],
   "source": [
    "p= pd.read_csv(\"D:/Data Science 360/Data scinece/Project/Project Python/Python Foundation Case Study 1 - Retail Case Study/Case Study 1 - Retail Case Study/prod_cat_info.csv\")"
   ]
  },
  {
   "cell_type": "code",
   "execution_count": null,
   "metadata": {},
   "outputs": [],
   "source": [
    "c=pd.read_csv(\"D:/Data Science 360/Data scinece/Project/Project Python/Python Foundation Case Study 1 - Retail Case Study/Case Study 1 - Retail Case Study/Customer.csv\")"
   ]
  },
  {
   "cell_type": "code",
   "execution_count": null,
   "metadata": {},
   "outputs": [],
   "source": [
    "new=pd.merge(t,c,left_on='cust_id',right_on='customer_Id')"
   ]
  },
  {
   "cell_type": "code",
   "execution_count": null,
   "metadata": {},
   "outputs": [],
   "source": [
    "customer_final=pd.merge(new,p,on='prod_cat_code')"
   ]
  },
  {
   "cell_type": "code",
   "execution_count": null,
   "metadata": {},
   "outputs": [],
   "source": [
    "customer_final.info()"
   ]
  },
  {
   "cell_type": "code",
   "execution_count": null,
   "metadata": {},
   "outputs": [],
   "source": [
    "customer_final.head(10)"
   ]
  },
  {
   "cell_type": "code",
   "execution_count": null,
   "metadata": {},
   "outputs": [],
   "source": [
    "customer_final[['tran_date','DOB']]=customer_final[['tran_date','DOB']].applymap(pd.to_datetime,format='%d-%m-%Y')"
   ]
  },
  {
   "cell_type": "code",
   "execution_count": null,
   "metadata": {},
   "outputs": [],
   "source": [
    "# two ways to do 5 summary\n",
    "customer_final.select_dtypes(['float64','int64']).agg(['min','median','max',lambda x:x.quantile(0.25),lambda x:x.quantile(0.75)]).T\n"
   ]
  },
  {
   "cell_type": "code",
   "execution_count": null,
   "metadata": {},
   "outputs": [],
   "source": [
    "def summary(x):\n",
    "    min=x.min()\n",
    "    median=x.median()\n",
    "    max=x.max()\n",
    "    q25=x.quantile(0.25)\n",
    "    q75=x.quantile(0.75)\n",
    "    return pd.Series([min,median,max,q25,q75],\n",
    "                     index=['min','median','max','q25','q75'])\n",
    "                     \n",
    "        "
   ]
  },
  {
   "cell_type": "code",
   "execution_count": null,
   "metadata": {},
   "outputs": [],
   "source": [
    "customer_final.select_dtypes(['int64','float64']).apply(summary)"
   ]
  },
  {
   "cell_type": "code",
   "execution_count": null,
   "metadata": {},
   "outputs": [],
   "source": [
    "customer_final.select_dtypes('object').value_counts()"
   ]
  },
  {
   "cell_type": "code",
   "execution_count": null,
   "metadata": {},
   "outputs": [],
   "source": [
    "customer_final.select_dtypes(['int64','float64']).hist()\n",
    "plt.show()"
   ]
  },
  {
   "cell_type": "code",
   "execution_count": null,
   "metadata": {},
   "outputs": [],
   "source": [
    "customer_final.select_dtypes('object').value_counts().plot(kind='bar')"
   ]
  },
  {
   "cell_type": "code",
   "execution_count": null,
   "metadata": {},
   "outputs": [],
   "source": [
    "time=customer_final.groupby('customer_Id')['tran_date'].agg(['min','max'])\n",
    "time['time_peroid']=time['max']-time['min']\n"
   ]
  },
  {
   "cell_type": "code",
   "execution_count": null,
   "metadata": {},
   "outputs": [],
   "source": [
    "(customer_final['total_amt']<=0).sum()"
   ]
  },
  {
   "cell_type": "code",
   "execution_count": null,
   "metadata": {},
   "outputs": [],
   "source": [
    "customer_final.groupby(['Gender','prod_cat'])['total_amt'].count().sort_values(ascending=False)"
   ]
  },
  {
   "cell_type": "code",
   "execution_count": null,
   "metadata": {},
   "outputs": [],
   "source": [
    "city=customer_final.groupby('city_code')['cust_id'].count().sort_values(ascending=False)\n",
    "perc_cust=(city.iloc[0]/customer_final.loc[:,'cust_id'].count())*100\n",
    "print(city)\n",
    "print(perc_cust.round(2))\n",
    "\n"
   ]
  },
  {
   "cell_type": "code",
   "execution_count": null,
   "metadata": {},
   "outputs": [],
   "source": [
    "customer_final.groupby('Store_type')['Qty','total_amt'].sum().sort_values(by='Qty' ,ascending=False)"
   ]
  },
  {
   "cell_type": "code",
   "execution_count": null,
   "metadata": {},
   "outputs": [],
   "source": [
    "filter=customer_final[((customer_final['Store_type']=='Flagship store')&(customer_final['prod_cat'].isin(['Clothing','Electronics'])))]\n"
   ]
  },
  {
   "cell_type": "code",
   "execution_count": null,
   "metadata": {},
   "outputs": [],
   "source": [
    "filter['total_amt'].sum()"
   ]
  },
  {
   "cell_type": "code",
   "execution_count": null,
   "metadata": {},
   "outputs": [],
   "source": [
    "filter1=customer_final[(customer_final['Gender']=='M')&(customer_final['prod_cat']=='Electronics')]\n",
    "filter1['total_amt'].sum()"
   ]
  },
  {
   "cell_type": "code",
   "execution_count": null,
   "metadata": {},
   "outputs": [],
   "source": [
    "trans=customer_final[(customer_final['total_amt']>=0)]\n",
    "tr=trans.groupby('cust_id')['transaction_id'].nunique()\n",
    "(tr < 10).sum()"
   ]
  },
  {
   "cell_type": "code",
   "execution_count": null,
   "metadata": {},
   "outputs": [],
   "source": [
    "customer_final['age'] = (datetime.today() - customer_final['DOB']).astype('<m8[Y]')"
   ]
  },
  {
   "cell_type": "code",
   "execution_count": null,
   "metadata": {},
   "outputs": [],
   "source": [
    "fil = customer_final[(customer_final['age'] >= 25) & (customer_final['age'] <= 35)]\n",
    "total1 = fil[fil['prod_cat'].isin(['Electronics', 'Books'])]['total_amt'].sum()\n",
    "total1"
   ]
  },
  {
   "cell_type": "code",
   "execution_count": null,
   "metadata": {},
   "outputs": [],
   "source": [
    "start= pd.to_datetime('01-01-2014')\n",
    "end=pd.to_datetime('01-03-2014')"
   ]
  },
  {
   "cell_type": "code",
   "execution_count": null,
   "metadata": {},
   "outputs": [],
   "source": [
    "filtered_data2 = customer_final[(customer_final['tran_date'] >= start) & (customer_final['tran_date'] < end)]\n",
    "filtered_data2['total_amt'].sum()"
   ]
  },
  {
   "cell_type": "code",
   "execution_count": null,
   "metadata": {},
   "outputs": [],
   "source": []
  }
 ],
 "metadata": {
  "kernelspec": {
   "display_name": "base",
   "language": "python",
   "name": "python3"
  },
  "language_info": {
   "codemirror_mode": {
    "name": "ipython",
    "version": 3
   },
   "file_extension": ".py",
   "mimetype": "text/x-python",
   "name": "python",
   "nbconvert_exporter": "python",
   "pygments_lexer": "ipython3",
   "version": "3.10.9"
  },
  "orig_nbformat": 4
 },
 "nbformat": 4,
 "nbformat_minor": 2
}
